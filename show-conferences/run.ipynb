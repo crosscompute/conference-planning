{
 "cells": [
  {
   "cell_type": "code",
   "execution_count": null,
   "id": "7082143e-a4f9-4c55-a105-3a62aadc89fe",
   "metadata": {
    "pycharm": {
     "name": "#%%\n"
    },
    "tags": []
   },
   "outputs": [],
   "source": [
    "from os import environ\n",
    "from pathlib import Path\n",
    "\n",
    "input_folder = Path(environ.get(\n",
    "    'CROSSCOMPUTE_INPUT_FOLDER', 'batches/python/input'))\n",
    "output_folder = Path(environ.get(\n",
    "    'CROSSCOMPUTE_OUTPUT_FOLDER', 'batches/python/output'))\n",
    "output_folder.mkdir(parents=True, exist_ok=True)"
   ]
  },
  {
   "cell_type": "code",
   "execution_count": null,
   "id": "25c78709-70e4-45de-9662-12d052276291",
   "metadata": {
    "pycharm": {
     "name": "#%%\n"
    },
    "tags": []
   },
   "outputs": [],
   "source": [
    "import json\n",
    "from os.path import join\n",
    "\n",
    "with (input_folder / 'variables.dictionary').open('rt') as f:\n",
    "    variables = json.load(f)\n",
    "page_title = variables['page_title']\n",
    "source_uri = variables['source_uri']\n",
    "# source_uri = 'https://github.com/python-organizers/conferences'\n",
    "# source_uri = 'https://github.com/python-organizers/conferences/blob/main/2022.csv'\n",
    "# source_uri = 'https://raw.githubusercontent.com/python-organizers/conferences/main/2022.csv'\n",
    "source_uri"
   ]
  },
  {
   "cell_type": "code",
   "execution_count": null,
   "id": "e3cdc360-95ce-47bb-8f1c-98193a0c6dac",
   "metadata": {
    "pycharm": {
     "name": "#%%\n"
    },
    "tags": []
   },
   "outputs": [],
   "source": [
    "import re\n",
    "\n",
    "PATH_REPOSITORY_PATTERN = re.compile(\n",
    "    r'^/(?P<user_name>[\\w\\d\\-_]+)/(?P<repository_name>[\\w\\d\\-_]+)', re.IGNORECASE)\n",
    "PATH_FILE_PATTERN = re.compile(\n",
    "    r'/blob/(?P<branch_name>[\\w\\d\\-_]+)/(?P<file_path>.*)$', re.IGNORECASE)\n",
    "FILE_EXTENSIONS = ['.csv']"
   ]
  },
  {
   "cell_type": "code",
   "execution_count": null,
   "id": "1850de21-7da3-44b9-a5ed-bf3604bacaa8",
   "metadata": {
    "pycharm": {
     "name": "#%%\n"
    },
    "tags": []
   },
   "outputs": [],
   "source": [
    "import requests\n",
    "\n",
    "def get_branch_name(user_name, repository_name):\n",
    "    request_uri = f'https://api.github.com/repos/{user_name}/{repository_name}'\n",
    "    response = requests.get(request_uri)\n",
    "    if response.status_code == 200:\n",
    "        response_d = response.json()\n",
    "        branch_name = response_d['default_branch']\n",
    "    else:\n",
    "        branch_name = 'master'\n",
    "    return branch_name\n",
    "\n",
    "def get_file_paths(user_name, repository_name, branch_name):\n",
    "    request_uri = f'https://api.github.com/repos/{user_name}/{repository_name}/git/trees/{branch_name}'\n",
    "    response = requests.get(request_uri)\n",
    "    file_paths = []\n",
    "    if response.status_code == 200:\n",
    "        response_d = response.json()\n",
    "        file_ds = response_d['tree']\n",
    "        # TODO: Consider getting paths from folders\n",
    "        file_paths.extend(_['path'] for _ in file_ds)\n",
    "    return file_paths"
   ]
  },
  {
   "cell_type": "code",
   "execution_count": null,
   "id": "798a5941-a0a6-4513-8715-de00f5c74a04",
   "metadata": {
    "tags": []
   },
   "outputs": [],
   "source": [
    "from os.path import splitext\n",
    "from urllib.parse import urlparse as parse_uri\n",
    "\n",
    "def get_source_uris(uri):\n",
    "    parsed_uri = parse_uri(uri)\n",
    "    hostname = parsed_uri.hostname\n",
    "    path = parsed_uri.path\n",
    "    source_uris = []\n",
    "    if hostname == 'github.com':\n",
    "        path_repository_match = PATH_REPOSITORY_PATTERN.match(path)\n",
    "        path_file_match = PATH_FILE_PATTERN.search(path)\n",
    "        if path_repository_match:\n",
    "            path_repository_d = path_repository_match.groupdict()\n",
    "            user_name = path_repository_d['user_name']\n",
    "            repository_name = path_repository_d['repository_name']\n",
    "            if path_file_match:\n",
    "                branch_name = path_repository_d['branch_name']\n",
    "            else:\n",
    "                branch_name = get_branch_name(user_name, repository_name)\n",
    "                for file_path in get_file_paths(user_name, repository_name, branch_name):\n",
    "                    file_extension = splitext(file_path)[1].lower()\n",
    "                    if file_extension not in FILE_EXTENSIONS:\n",
    "                        continue\n",
    "                    source_uris.append(\n",
    "                        f'https://raw.githubusercontent.com/{user_name}/{repository_name}/{branch_name}/{file_path}')\n",
    "    else:\n",
    "        source_uris.append(uri)\n",
    "    return sorted(source_uris)\n",
    "\n",
    "source_uris = get_source_uris(source_uri)\n",
    "source_uris"
   ]
  },
  {
   "cell_type": "code",
   "execution_count": null,
   "id": "6f52091e-8ad9-4936-b11a-aed7d773408d",
   "metadata": {
    "pycharm": {
     "name": "#%%\n"
    },
    "tags": []
   },
   "outputs": [],
   "source": [
    "import pandas as pd\n",
    "\n",
    "source_tables = []\n",
    "for uri in source_uris:\n",
    "    try:\n",
    "        t = pd.read_csv(uri)\n",
    "        source_tables.append(t)\n",
    "    except Exception:\n",
    "        pass"
   ]
  },
  {
   "cell_type": "code",
   "execution_count": null,
   "id": "f04732df-9483-4f9d-b8fa-7498e8848ae6",
   "metadata": {
    "pycharm": {
     "name": "#%%\n"
    },
    "tags": []
   },
   "outputs": [],
   "source": [
    "source_table = pd.concat(source_tables)\n",
    "for c in [\n",
    "    'Start Date',\n",
    "    'End Date',\n",
    "    'Talk Deadline',\n",
    "]:\n",
    "    source_table[c] = pd.to_datetime(source_table[c], errors='coerce')\n",
    "source_table.reset_index(drop=True, inplace=True)\n",
    "source_table.dropna(subset=['Start Date', 'End Date'], inplace=True)\n",
    "source_table[:2]"
   ]
  },
  {
   "cell_type": "code",
   "execution_count": null,
   "id": "365d932e-815d-4e2a-92d5-09d05faecbfc",
   "metadata": {
    "tags": []
   },
   "outputs": [],
   "source": [
    "from datetime import datetime\n",
    "\n",
    "now_datetime = datetime.now()\n",
    "event_table = source_table[source_table['End Date'] >= now_datetime]\n",
    "len(event_table)"
   ]
  },
  {
   "cell_type": "code",
   "execution_count": null,
   "id": "13602c2e-0e64-4008-8a78-976b78c7267c",
   "metadata": {
    "tags": []
   },
   "outputs": [],
   "source": [
    "from collections import defaultdict\n",
    "\n",
    "def get_next_events(t, k, f):\n",
    "    t = t[t[k] >= now_datetime]\n",
    "    return get_events(t, k, f)\n",
    "\n",
    "def get_events(t, k, f):\n",
    "    d = defaultdict(list)\n",
    "    for i, r in t.sort_values(by=k).iterrows():\n",
    "        this_datetime = r[k]\n",
    "        if this_datetime < now_datetime:\n",
    "            this_datetime = now_datetime\n",
    "        d[f(this_datetime)].append(r)\n",
    "    return dict(d)"
   ]
  },
  {
   "cell_type": "code",
   "execution_count": null,
   "id": "eddea343-3388-4f16-9252-1c93233de78c",
   "metadata": {
    "tags": []
   },
   "outputs": [],
   "source": [
    "def get_timestamp(x):\n",
    "    return x.strftime('%Y %B')\n",
    "\n",
    "proposals = get_next_events(\n",
    "    event_table, 'Talk Deadline', get_timestamp)\n",
    "conferences = get_events(\n",
    "    event_table, 'Start Date', get_timestamp)"
   ]
  },
  {
   "cell_type": "code",
   "execution_count": null,
   "id": "4870c987-a0bd-4ded-930e-e4505c3e2d0a",
   "metadata": {},
   "outputs": [],
   "source": [
    "def get_proposal_text(r):\n",
    "    proposal_datetime = r['Talk Deadline']\n",
    "    if pd.isna(proposal_datetime) or proposal_datetime < now_datetime:\n",
    "        return ''\n",
    "    proposal_text = ' and '\n",
    "    proposal_url = r['Proposal URL']\n",
    "    proposal_datestamp = proposal_datetime.strftime(datestamp_format)\n",
    "    if proposal_url:\n",
    "        proposal_text += (\n",
    "            f'[proposals are due {proposal_datestamp}]({proposal_url})')\n",
    "    else:\n",
    "        proposal_text += (\n",
    "            f'proposals are due {proposal_datestamp}')\n",
    "    return proposal_text"
   ]
  },
  {
   "cell_type": "code",
   "execution_count": null,
   "id": "1ac3b1f4-512d-4723-82c9-eb8a61cca064",
   "metadata": {
    "tags": []
   },
   "outputs": [],
   "source": [
    "lines = [f'# {page_title}']\n",
    "datestamp_format = '%A, %B %d, %Y'\n",
    "\n",
    "def extend_lines(subtitle, events):\n",
    "    if not events:\n",
    "        return\n",
    "    lines.append(f'## Upcoming {subtitle}')\n",
    "    for timestamp, rows in events.items():\n",
    "        lines.append(f'### {timestamp}')\n",
    "        for r in rows:\n",
    "            subject = r['Subject']\n",
    "            start_datetime = r['Start Date']\n",
    "            end_datetime = r['End Date']\n",
    "            website_url = r['Website URL']\n",
    "            proposal_text = get_proposal_text(r)\n",
    "            lines.append(\n",
    "                f'- [{subject}]({website_url}) is '\n",
    "                f'from {start_datetime.strftime(datestamp_format)} '\n",
    "                f'to {end_datetime.strftime(datestamp_format)}' + proposal_text)"
   ]
  },
  {
   "cell_type": "code",
   "execution_count": null,
   "id": "afde2c4c-96ae-4e14-abf4-e501f24c1447",
   "metadata": {
    "tags": []
   },
   "outputs": [],
   "source": [
    "extend_lines('Proposals', proposals)\n",
    "extend_lines('Conferences', conferences)\n",
    "lines.append(f'\\nSee {source_uri}.')"
   ]
  },
  {
   "cell_type": "code",
   "execution_count": null,
   "id": "b8ec1a85-0bf8-4faf-a8fd-d23489d0f434",
   "metadata": {
    "pycharm": {
     "name": "#%%\n"
    }
   },
   "outputs": [],
   "source": [
    "with (output_folder / 'calendar.md').open('wt') as f:\n",
    "    f.write('\\n'.join(lines))"
   ]
  },
  {
   "cell_type": "code",
   "execution_count": null,
   "id": "c6a999e8-be60-496a-a733-f7cc5c8e5ff1",
   "metadata": {},
   "outputs": [],
   "source": [
    "import pandas as pd\n",
    "\n",
    "datasets_folder = Path('datasets')\n",
    "unsd_table = pd.read_csv(datasets_folder / 'unsd-20240528.csv')\n",
    "unsd_table.set_index('ISO-alpha3 Code', inplace=True)\n",
    "region_name_by_alpha3_code = unsd_table[['Region Name']].to_dict()['Region Name']\n",
    "region_name_by_alpha3_code['TWN'] = 'Asia'\n",
    "region_name_by_alpha3_code['HKG'] = 'Asia'"
   ]
  },
  {
   "cell_type": "code",
   "execution_count": null,
   "id": "2ee6b3a3-56a8-49dd-9bf2-5dd60297c3b6",
   "metadata": {},
   "outputs": [],
   "source": [
    "# region_names = sorted(str(x) for x in set(region_name_by_alpha3_code.values()))\n",
    "# region_count = len(region_names)\n",
    "# region_count"
   ]
  },
  {
   "cell_type": "code",
   "execution_count": null,
   "id": "5d9b609e-d300-40c8-b2c9-27c852a148e5",
   "metadata": {},
   "outputs": [],
   "source": [
    "# sorted([str(_) for _ in region_names])"
   ]
  },
  {
   "cell_type": "code",
   "execution_count": null,
   "id": "759d31f5-c677-4c36-8897-b92d50bf846e",
   "metadata": {},
   "outputs": [],
   "source": [
    "# from matplotlib import colormaps\n",
    "# colors = plt.get_cmap('tab20')(np.arange(region_count, dtype=int))\n",
    "# colors = ['blue', 'green', 'red', 'cyan', 'magenta', 'yellow', 'black']"
   ]
  },
  {
   "cell_type": "code",
   "execution_count": null,
   "id": "96c982a8-99dd-4fe2-9b9b-6f2ee25ac283",
   "metadata": {},
   "outputs": [],
   "source": [
    "color_name_by_region_name = {\n",
    "    'Africa': 'green',\n",
    "    'Americas': 'blue',\n",
    "    'Asia': 'cyan',\n",
    "    'Europe': 'magenta',\n",
    "    'Oceania': 'red'}\n",
    "region_names = list(color_name_by_region_name.keys())\n",
    "color_names = list(color_name_by_region_name.values())"
   ]
  },
  {
   "cell_type": "code",
   "execution_count": null,
   "id": "8b869a50-8c6e-4eae-91d5-b778de679aa2",
   "metadata": {},
   "outputs": [],
   "source": [
    "from matplotlib import patches\n",
    "patches = [patches.Patch(color=c) for c in color_names]"
   ]
  },
  {
   "cell_type": "code",
   "execution_count": null,
   "id": "f7327c5f-935d-49db-b53a-72ddc358baac",
   "metadata": {},
   "outputs": [],
   "source": [
    "gantt_table = event_table.copy()"
   ]
  },
  {
   "cell_type": "code",
   "execution_count": null,
   "id": "2ff5718e-954e-407c-8422-4b46507e8b4d",
   "metadata": {},
   "outputs": [],
   "source": [
    "today_timestamp = pd.Timestamp(now_datetime.date())\n",
    "\n",
    "def make_gantt_columns(row):\n",
    "    reference_date = max(row['Start Date'], today_timestamp)\n",
    "    row['Offset'] = (reference_date - today_timestamp).days\n",
    "    row['Length'] = (row['End Date'] - reference_date).days + 1\n",
    "    try:\n",
    "        row['Region'] = region_name_by_alpha3_code[row['Country']]\n",
    "    except KeyError:\n",
    "        row['Region'] = '?'\n",
    "    return row\n",
    "\n",
    "gantt_table = event_table.copy()\n",
    "gantt_table = gantt_table.apply(make_gantt_columns, axis=1)"
   ]
  },
  {
   "cell_type": "code",
   "execution_count": null,
   "id": "4490dbd4-22f7-4654-b0bf-0c252a56ac55",
   "metadata": {},
   "outputs": [],
   "source": [
    "maximum_offset = gantt_table['Offset'].max()\n",
    "xtick_locations = [30 * _ for _ in range(0, int(maximum_offset / 30))]\n",
    "xtick_locations"
   ]
  },
  {
   "cell_type": "code",
   "execution_count": null,
   "id": "9b312ed2-9da8-4dee-b0db-eb91b9b7bd5d",
   "metadata": {},
   "outputs": [],
   "source": [
    "from datetime import timedelta\n",
    "\n",
    "xtick_labels = [(now_datetime + timedelta(days=_)).strftime('%Y %b') for _ in xtick_locations]\n",
    "xtick_labels"
   ]
  },
  {
   "cell_type": "code",
   "execution_count": null,
   "id": "2fec8918-3944-4a87-b885-daac20fd093a",
   "metadata": {},
   "outputs": [],
   "source": [
    "last_event = gantt_table.iloc[-1]\n",
    "last_event"
   ]
  },
  {
   "cell_type": "code",
   "execution_count": null,
   "id": "3464f4ca-1760-41de-a260-e6540f56116e",
   "metadata": {},
   "outputs": [],
   "source": [
    "import matplotlib.pyplot as plt\n",
    "\n",
    "maximum_subject_length = 20\n",
    "event_count = len(gantt_table)\n",
    "figure_width = 2 + maximum_offset * 0.025\n",
    "figure_height = 1 + event_count * 0.2\n",
    "plt.figure(figsize=(figure_width, figure_height))  \n",
    "for i, r in gantt_table.iterrows():\n",
    "    try:\n",
    "        c = color_names[region_names.index(r['Region'])]\n",
    "    except ValueError:\n",
    "        c = 'black'\n",
    "    plt.barh(\n",
    "        y=r['Subject'][:maximum_subject_length],\n",
    "        width=r['Length'], left=r['Offset'], color=c)\n",
    "plt.xlim(0, last_event['Offset'] + last_event['Length'])\n",
    "plt.ylim(-1, event_count)\n",
    "plt.gca().invert_yaxis()\n",
    "plt.grid()\n",
    "plt.legend(handles=patches, labels=region_names, fontsize=14, framealpha=1)\n",
    "plt.xticks(xtick_locations, xtick_labels, rotation=270)\n",
    "plt.savefig(output_folder / 'gantt.svg', bbox_inches='tight')"
   ]
  }
 ],
 "metadata": {
  "kernelspec": {
   "display_name": "Python 3 (ipykernel)",
   "language": "python",
   "name": "python3"
  },
  "language_info": {
   "codemirror_mode": {
    "name": "ipython",
    "version": 3
   },
   "file_extension": ".py",
   "mimetype": "text/x-python",
   "name": "python",
   "nbconvert_exporter": "python",
   "pygments_lexer": "ipython3",
   "version": "3.12.3"
  }
 },
 "nbformat": 4,
 "nbformat_minor": 5
}
